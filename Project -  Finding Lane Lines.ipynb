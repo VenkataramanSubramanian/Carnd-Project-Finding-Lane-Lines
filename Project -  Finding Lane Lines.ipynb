{
 "cells": [
  {
   "cell_type": "code",
   "execution_count": null,
   "metadata": {},
   "outputs": [],
   "source": [
    "#importing some useful packages\n",
    "import matplotlib.pyplot as plt\n",
    "import matplotlib.image as mpimg\n",
    "import numpy as np\n",
    "import cv2\n",
    "import math\n",
    "import os\n",
    "from moviepy.editor import VideoFileClip\n",
    "from IPython.display import HTML\n",
    "%matplotlib inline"
   ]
  },
  {
   "cell_type": "code",
   "execution_count": null,
   "metadata": {},
   "outputs": [],
   "source": [
    "def grayscale(img):\n",
    "    #covert the image to gray scale\n",
    "    return cv2.cvtColor(img, cv2.COLOR_RGB2GRAY)\n",
    "\n",
    "def gaussian_blur(img, kernel_size):\n",
    "    #perfoms gaussian blur\n",
    "    return cv2.GaussianBlur(img, (kernel_size, kernel_size), 0)\n",
    "\n",
    "    \n",
    "def canny(img, low_threshold, high_threshold):\n",
    "    #performing canny edge detection\n",
    "    return cv2.Canny(img, low_threshold, high_threshold)\n",
    "\n",
    "\n",
    "def region_of_interest(img, vertices):\n",
    "\n",
    "    mask = np.zeros_like(img)   \n",
    "    \n",
    "    #defining a 3 channel or 1 channel color to fill the mask with depending on the input image\n",
    "    if len(img.shape) > 2:\n",
    "        channel_count = img.shape[2]  # i.e. 3 or 4 depending on your image\n",
    "        ignore_mask_color = (255,) * channel_count\n",
    "    else:\n",
    "        ignore_mask_color = 255\n",
    "        \n",
    "    #Masking the matrix within the vertices with the fill color    \n",
    "    cv2.fillPoly(mask, vertices, ignore_mask_color)\n",
    "    \n",
    "    #returning the image only where mask pixels are nonzero\n",
    "    masked_image = cv2.bitwise_and(img, mask)\n",
    "    return masked_image\n",
    "\n",
    "def hough_lines(img, rho, theta, threshold, min_line_len, max_line_gap):\n",
    "\n",
    "    #performinh Hough Transform\n",
    "    lines = cv2.HoughLinesP(img, rho, theta, threshold, np.array([]), minLineLength=min_line_len, maxLineGap=max_line_gap)\n",
    "    line_img = np.zeros((img.shape[0], img.shape[1], 3), dtype=np.uint8)\n",
    "    color=[255, 0, 0]\n",
    "    thickness=10\n",
    "    \n",
    "    #Selecting the lines to be drawn on the left side lane\n",
    "    tmp=[]\n",
    "    for line in lines:\n",
    "        for x1,y1,x2,y2 in line:\n",
    "            if(x1<460 and x2<460 and y1>320 and y2>320):\n",
    "                tmp.append([x1,y1,x2,y2])\n",
    "    \n",
    "    x1=min(list(map(lambda x:x[0],tmp)))\n",
    "    y1=max(list(map(lambda x:x[1],tmp)))\n",
    "    x2=max(list(map(lambda x:x[2],tmp)))\n",
    "    y2=min(list(map(lambda x:x[3],tmp)))\n",
    "    \n",
    "    a = np.array([[x1,1], [x2,1]])\n",
    "    b = np.array([(540-y1),(540-y2)])\n",
    "    c = np.linalg.solve(a, b)\n",
    "    \n",
    "    x1=int((c[1]/c[0])*-1)\n",
    "    y1=540\n",
    "    \n",
    "    cv2.line(line_img, (x1, y1), (x2, y2), color, thickness)\n",
    "    \n",
    "    #Selecting the line to be drawn on right side of the lane\n",
    "    tmp=[]\n",
    "    for line in lines:\n",
    "        for x1,y1,x2,y2 in line:\n",
    "            if(x1>500 and x2>500 and y1>320 and y2>320):\n",
    "                tmp.append([x1,y1,x2,y2])\n",
    "                \n",
    "    x1=min(list(map(lambda x:x[0],tmp)))\n",
    "    y1=min(list(map(lambda x:x[1],tmp)))\n",
    "    x2=max(list(map(lambda x:x[2],tmp)))\n",
    "    y2=max(list(map(lambda x:x[3],tmp)))\n",
    "    \n",
    "    a = np.array([[x1,1], [x2,1]])\n",
    "    b = np.array([(540-y1),(540-y2)])\n",
    "    c = np.linalg.solve(a, b)\n",
    "\n",
    "    x2=int((c[1]/c[0])*-1)\n",
    "    y2=540\n",
    "    \n",
    "    cv2.line(line_img, (x1, y1), (x2, y2), color, thickness)\n",
    "    \n",
    "    return line_img\n",
    "\n",
    "def weighted_img(img, initial_img, α=0.8, β=1., γ=0.):\n",
    "\n",
    "    #returning the final image\n",
    "    return cv2.addWeighted(initial_img, α, img, β, γ)\n"
   ]
  },
  {
   "cell_type": "code",
   "execution_count": null,
   "metadata": {},
   "outputs": [],
   "source": [
    "#Variables initialized\n",
    "kernel_size = 5\n",
    "low_threshold = 50\n",
    "high_threshold = 150\n",
    "vertices = np.array([[(85,540),(460, 320), (500, 320), (900,540)]], dtype=np.int32)\n",
    "rho = 2 \n",
    "theta = np.pi/180 \n",
    "threshold = 10    \n",
    "min_line_length = 20\n",
    "max_line_gap = 30"
   ]
  },
  {
   "cell_type": "code",
   "execution_count": null,
   "metadata": {},
   "outputs": [],
   "source": [
    "#Function to call all the image frames of the video to perform lane detection\n",
    "def process_image(image):\n",
    "    img=grayscale(image)\n",
    "    img=gaussian_blur(img,kernel_size)\n",
    "    canny_img=canny(img,low_threshold,high_threshold)\n",
    "    img=region_of_interest(canny_img,vertices)\n",
    "    img=hough_lines(img, rho, theta, threshold, min_line_length, max_line_gap)\n",
    "    img=weighted_img(img,image)\n",
    "    return img"
   ]
  },
  {
   "cell_type": "code",
   "execution_count": null,
   "metadata": {},
   "outputs": [],
   "source": [
    "#Exeuting the video and saving it to the output folder\n",
    "white_output = 'test_videos_output/solidWhiteRight.mp4'\n",
    "clip1 = VideoFileClip(\"test_videos/solidWhiteRight.mp4\")\n",
    "white_clip = clip1.fl_image(process_image)\n",
    "%time white_clip.write_videofile(white_output, audio=False)"
   ]
  },
  {
   "cell_type": "code",
   "execution_count": null,
   "metadata": {},
   "outputs": [],
   "source": [
    "#Exeuting the video and saving it to the output folder\n",
    "yellow_output = 'test_videos_output/solidYellowLeft.mp4'\n",
    "clip2 = VideoFileClip('test_videos/solidYellowLeft.mp4')\n",
    "yellow_clip = clip2.fl_image(process_image)\n",
    "%time yellow_clip.write_videofile(yellow_output, audio=False)"
   ]
  },
  {
   "cell_type": "code",
   "execution_count": null,
   "metadata": {},
   "outputs": [],
   "source": [
    "images=os.listdir(\"test_images/\")\n",
    "for i in images:\n",
    "    image = mpimg.imread('test_images/'+str(i))\n",
    "    img = process_image(image)\n",
    "    mpimg.imsave(\"test_images_ouput/\"+str(i), img)"
   ]
  }
 ],
 "metadata": {
  "kernelspec": {
   "display_name": "Python 3",
   "language": "python",
   "name": "python3"
  },
  "language_info": {
   "codemirror_mode": {
    "name": "ipython",
    "version": 3
   },
   "file_extension": ".py",
   "mimetype": "text/x-python",
   "name": "python",
   "nbconvert_exporter": "python",
   "pygments_lexer": "ipython3",
   "version": "3.5.2"
  },
  "widgets": {
   "state": {},
   "version": "1.1.2"
  }
 },
 "nbformat": 4,
 "nbformat_minor": 2
}
